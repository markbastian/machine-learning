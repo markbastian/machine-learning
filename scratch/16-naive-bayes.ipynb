{
 "cells": [
  {
   "cell_type": "markdown",
   "metadata": {},
   "source": [
    "### Naive Bayes\n",
    "\n",
    "The information you know first (initial observation before any other data) is the prior (probability). In other words, it is the information you get prior to getting other information.\n",
    "\n",
    "The information you get later is called the posterior.\n",
    "\n",
    "Bayes theorem switches from what you know to what you infer.\n",
    "\n",
    "Think of a branching probability tree. The first branch is the prior probability. The next is the posterior. 1/2 the branches (the complement) are cut out."
   ]
  },
  {
   "cell_type": "code",
   "execution_count": null,
   "metadata": {},
   "outputs": [],
   "source": []
  }
 ],
 "metadata": {
  "kernelspec": {
   "display_name": "Python 3",
   "language": "python",
   "name": "python3"
  },
  "language_info": {
   "codemirror_mode": {
    "name": "ipython",
    "version": 3
   },
   "file_extension": ".py",
   "mimetype": "text/x-python",
   "name": "python",
   "nbconvert_exporter": "python",
   "pygments_lexer": "ipython3",
   "version": "3.7.2"
  }
 },
 "nbformat": 4,
 "nbformat_minor": 2
}
